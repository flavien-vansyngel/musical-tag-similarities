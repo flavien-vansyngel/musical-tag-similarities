{
 "cells": [
  {
   "cell_type": "markdown",
   "metadata": {},
   "source": [
    "# Tag similarities"
   ]
  },
  {
   "cell_type": "markdown",
   "metadata": {},
   "source": [
    "The analysis of this notebook makes use of last.fm data to find structures in musical collaborative tagging. <br>\n",
    "This notebook __must__ be in the same directory than the last.fm data.\n",
    "* [Finding pairwise similarities using correlation](#corr)\n",
    "* [Finding clusters of tags using K-means on bag of words](#cluster)"
   ]
  },
  {
   "cell_type": "code",
   "execution_count": 1,
   "metadata": {},
   "outputs": [],
   "source": [
    "import pandas as pd\n",
    "import numpy as np\n",
    "from sklearn.cluster import KMeans\n",
    "import matplotlib.pyplot as plt"
   ]
  },
  {
   "cell_type": "markdown",
   "metadata": {},
   "source": [
    "Construct dictionaries to map integer IDs of artist/tag to their actual string values."
   ]
  },
  {
   "cell_type": "code",
   "execution_count": 2,
   "metadata": {},
   "outputs": [],
   "source": [
    "tags = pd.read_csv('tags.dat', sep='\\t', encoding = 'ISO-8859-1')\n",
    "zipList = zip(tags.tagID.to_list(), tags.tagValue.to_list())\n",
    "dictOfTags = dict(zipList)"
   ]
  },
  {
   "cell_type": "code",
   "execution_count": 3,
   "metadata": {},
   "outputs": [],
   "source": [
    "artists = pd.read_csv('artists.dat', sep='\\t')\n",
    "zipList = zip(artists.id.to_list(), artists.name.to_list())\n",
    "dictOfArtists = dict(zipList)"
   ]
  },
  {
   "cell_type": "markdown",
   "metadata": {},
   "source": [
    "### Finding pairwise similarities using correlation <a class=\"anchor\" id=\"corr\"></a>"
   ]
  },
  {
   "cell_type": "markdown",
   "metadata": {},
   "source": [
    "Use the 500 most popular tags."
   ]
  },
  {
   "cell_type": "code",
   "execution_count": 4,
   "metadata": {
    "scrolled": true
   },
   "outputs": [],
   "source": [
    "nTags = 500\n",
    "userTagArtist = pd.read_csv('user_taggedartists.dat', sep='\\t')\n",
    "sorted_tags = userTagArtist['tagID'].value_counts()\n",
    "firstTags = sorted_tags.head(nTags).index.to_list()"
   ]
  },
  {
   "cell_type": "markdown",
   "metadata": {},
   "source": [
    "Construct correlation between the tags, from occurences in artist tags."
   ]
  },
  {
   "cell_type": "code",
   "execution_count": 5,
   "metadata": {
    "scrolled": true
   },
   "outputs": [],
   "source": [
    "artistTagMatrix = userTagArtist[['artistID','tagID']].groupby(['artistID','tagID']).size().unstack()\n",
    "artistTagMatrix = artistTagMatrix[firstTags].fillna(0)\n",
    "tagCorr = artistTagMatrix.corr()"
   ]
  },
  {
   "cell_type": "markdown",
   "metadata": {},
   "source": [
    "Extract all correlations and make an histogram. <br>\n",
    "Some tags are highly correlated but never anti-correlated, i.e. there are very similar tags but no \"dissimilar\" tags."
   ]
  },
  {
   "cell_type": "code",
   "execution_count": 6,
   "metadata": {},
   "outputs": [
    {
     "data": {
      "image/png": "[encoded data removed]",
      "text/plain": [
       "<Figure size 432x288 with 1 Axes>"
      ]
     },
     "metadata": {
      "needs_background": "light"
     },
     "output_type": "display_data"
    }
   ],
   "source": [
    "ilower = np.tril_indices(nTags, -1)\n",
    "plt.hist(np.asarray(tagCorr)[ilower], bins=100, log=True);"
   ]
  },
  {
   "cell_type": "markdown",
   "metadata": {},
   "source": [
    "Show the 60 most similar tags (according to linear correlation). <br>\n",
    "The `drop(index=...)` is used to ignore the diagonal of the correlation matrix (value 1)."
   ]
  },
  {
   "cell_type": "code",
   "execution_count": 7,
   "metadata": {
    "scrolled": false
   },
   "outputs": [
    {
     "data": {
      "text/plain": [
       "tagID                 tagID               \n",
       "korean                k-pop                   0.913729\n",
       "glam metal            hair metal              0.910982\n",
       "legend                britney spears          0.856611\n",
       "hip-hop               rap                     0.849267\n",
       "fantastic             cool as                 0.846452\n",
       "psytrance             goa                     0.832268\n",
       "hip-hop               hip hop                 0.826660\n",
       "great song            my favorite             0.822234\n",
       "psychedelic trance    psytrance               0.818196\n",
       "indie                 indie rock              0.818128\n",
       "screamo               post-hardcore           0.812301\n",
       "hip hop               rap                     0.808087\n",
       "punk rock             punk                    0.804103\n",
       "goa                   psychedelic trance      0.802050\n",
       "alternative           alternative rock        0.796345\n",
       "jamaica               jamaican                0.792955\n",
       "synthpop              synth pop               0.781788\n",
       "pop                   dance                   0.776907\n",
       "nu-metal              nu metal                0.776711\n",
       "brazilian             brasil                  0.764426\n",
       "female vocalist       female vocalists        0.752824\n",
       "brasil                mpb                     0.747186\n",
       "uk                    british                 0.739983\n",
       "barkbarkdisco         bark                    0.736038\n",
       "new wave              80s                     0.733586\n",
       "rock                  alternative             0.733217\n",
       "sexy                  pop                     0.732349\n",
       "female fronted metal  gothic metal            0.724328\n",
       "post-rock             post rock               0.723017\n",
       "female vocalists      female                  0.716682\n",
       "christian             christian rock          0.715028\n",
       "pop                   female vocalists        0.714404\n",
       "trip-hop              downtempo               0.712031\n",
       "sexy                  dance                   0.709273\n",
       "rock                  alternative rock        0.707081\n",
       "dance                 diva                    0.703252\n",
       "electronic            electronica             0.702248\n",
       "sexy                  diva                    0.695808\n",
       "j-pop                 jpop                    0.695243\n",
       "pop                   female                  0.686991\n",
       "                      female vocalist         0.686606\n",
       "diva                  pop                     0.686211\n",
       "sexy                  hot                     0.683685\n",
       "j-rock                jrock                   0.678363\n",
       "psychedelic           psychedelic rock        0.675929\n",
       "brazilian             mpb                     0.675296\n",
       "<3                    love at first listen    0.670649\n",
       "rock n roll           rock and roll           0.670128\n",
       "downtempo             chillout                0.669149\n",
       "pop                   catchy                  0.667999\n",
       "alternative           indie                   0.665702\n",
       "female vocalist       female                  0.664965\n",
       "pop                   amazing                 0.659093\n",
       "hot                   pop                     0.658839\n",
       "gothic rock           gothic                  0.657747\n",
       "japanese              j-pop                   0.657402\n",
       "synth pop             new wave                0.649888\n",
       "dance                 party                   0.649200\n",
       "classic rock          70s                     0.648681\n",
       "4m4zinq               f4nt4stic               0.646896\n",
       "dtype: float64"
      ]
     },
     "execution_count": 7,
     "metadata": {},
     "output_type": "execute_result"
    }
   ],
   "source": [
    "corrStack = tagCorr.stack()\n",
    "top = corrStack.drop(index=corrStack[corrStack.eq(1)].index).sort_values(ascending=False)\n",
    "top.rename(dictOfTags).drop_duplicates().head(60)"
   ]
  },
  {
   "cell_type": "markdown",
   "metadata": {},
   "source": [
    "## Finding clusters of tags using K-means on bag of words <a class=\"anchor\" id=\"cluster\"></a>"
   ]
  },
  {
   "cell_type": "markdown",
   "metadata": {},
   "source": [
    "Construct the bag of words."
   ]
  },
  {
   "cell_type": "code",
   "execution_count": 9,
   "metadata": {},
   "outputs": [],
   "source": [
    "bag_of_words = userTagArtist[['artistID','tagID']].groupby(['artistID','tagID']).size().unstack()\n",
    "bag_of_words = bag_of_words[firstTags]\n",
    "bag_of_words.rename(dictOfTags,   axis=1, inplace=True)\n",
    "bag_of_words.rename(dictOfArtists, axis=0, inplace=True)\n",
    "bag_of_words[bag_of_words.notnull()] = 1\n",
    "bag_of_words.fillna(0, inplace=True)"
   ]
  },
  {
   "cell_type": "markdown",
   "metadata": {},
   "source": [
    "Apply K-means on the bag of words (not finely tuned yet). <br>\n",
    "Since the objctive function of K-means is not convex, the result depends on the random initial state. K-means should be run several times in order to find the most probable clustering."
   ]
  },
  {
   "cell_type": "code",
   "execution_count": 198,
   "metadata": {},
   "outputs": [],
   "source": [
    "kmeans = KMeans(n_clusters=100).fit(np.asarray(bag_of_words).T)"
   ]
  },
  {
   "cell_type": "markdown",
   "metadata": {},
   "source": [
    "Show the clusters containing more than 4 tags (and not too many tags)."
   ]
  },
  {
   "cell_type": "code",
   "execution_count": 200,
   "metadata": {},
   "outputs": [
    {
     "name": "stdout",
     "output_type": "stream",
     "text": [
      "['classic' 'sweet' 'gangsta rap' 'nice' 'smooth' 'hard' 'good shit' 'dope'\n",
      " 'crazy' 'sick' 'phat' 'tight' 'the good stuff' 'the truth' 'real talk']\n",
      "['rnb' 'urban' '2008' 'top 40' 'madonna' 'beyonce' 'justin timberlake'\n",
      " 'r and b' 'nelly furtado' 'harmonies']\n",
      "['electropop' 'indietronica' 'new rave' 'neon space']\n",
      "['<3' 'love at first listen' 'catchy' 'fun' 'happy' 'remix' 'english'\n",
      " 'hot' 'party' 'guilty pleasure' 'cute' 'diva' '2010' 'addictive'\n",
      " 'electro pop' \"let's dance\"]\n",
      "['sad' 'epic' 'atmospheric' 'romantic' 'favorite songs' 'melancholic'\n",
      " 'perfect' 'love it' 'fucking awesome' 'brilliant' 'lovely' 'genius']\n",
      "['lounge' 'chill' 'dreamy' 'relax' 'vocal']\n",
      "['new age' 'relaxing' 'ethereal' 'christmas' 'irish' 'celtic']\n",
      "['brazilian' 'brasil' 'mpb' 'brazil']\n",
      "['synth pop' 'new romantic' 'fav artists' 'fav songs' 'british artists'\n",
      " 'new wave artists']\n",
      "['country' 'love songs' 'memories' 'great song' 'classic country'\n",
      " 'my favorite']\n",
      "['trance' 'psytrance' 'progressive trance' 'psychedelic trance' 'goa']\n",
      "['japanese' 'j-pop' 'j-rock' 'visual kei' 'jrock']\n"
     ]
    }
   ],
   "source": [
    "tagList = np.asarray(bag_of_words.columns)\n",
    "clusters = np.arange(100)\n",
    "clusterInd = np.logical_and(np.bincount(kmeans.labels_) > 3, np.bincount(kmeans.labels_) < 30)\n",
    "for cluster in clusters[clusterInd]:\n",
    "    print(tagList[kmeans.labels_ == cluster])"
   ]
  }
 ],
 "metadata": {
  "kernelspec": {
   "display_name": "Python 3",
   "language": "python",
   "name": "python3"
  },
  "language_info": {
   "codemirror_mode": {
    "name": "ipython",
    "version": 3
   },
   "file_extension": ".py",
   "mimetype": "text/x-python",
   "name": "python",
   "nbconvert_exporter": "python",
   "pygments_lexer": "ipython3",
   "version": "3.7.4"
  }
 },
 "nbformat": 4,
 "nbformat_minor": 2
}
